{
 "cells": [
  {
   "cell_type": "markdown",
   "id": "25d7736c-ba17-4aff-b6bb-66eba20fbf4e",
   "metadata": {},
   "source": [
    "# Lab | Functions"
   ]
  },
  {
   "cell_type": "markdown",
   "id": "0c581062-8967-4d93-b06e-62833222f930",
   "metadata": {
    "tags": []
   },
   "source": [
    "## Exercise: Managing Customer Orders with Functions\n",
    "\n",
    "In the previous exercise, you improved the code for managing customer orders by using loops and flow control. Now, let's take it a step further and refactor the code by introducing functions.\n",
    "\n",
    "Follow the steps below to complete the exercise:\n",
    "\n",
    "1. Define a function named `initialize_inventory` that takes `products` as a parameter. Inside the function, implement the code for initializing the inventory dictionary using a loop and user input.\n",
    "\n",
    "2. Define a function named `get_customer_orders` that takes no parameters. Inside the function, implement the code for prompting the user to enter the product names using a loop. The function should return the `customer_orders` set.\n",
    "\n",
    "3. Define a function named `update_inventory` that takes `customer_orders` and `inventory` as parameters. Inside the function, implement the code for updating the inventory dictionary based on the customer orders.\n",
    "\n",
    "4. Define a function named `calculate_order_statistics` that takes `customer_orders` and `products` as parameters. Inside the function, implement the code for calculating the order statistics (total products ordered, and percentage of unique products ordered). The function should return these values.\n",
    "\n",
    "5. Define a function named `print_order_statistics` that takes `order_statistics` as a parameter. Inside the function, implement the code for printing the order statistics.\n",
    "\n",
    "6. Define a function named `print_updated_inventory` that takes `inventory` as a parameter. Inside the function, implement the code for printing the updated inventory.\n",
    "\n",
    "7. Call the functions in the appropriate sequence to execute the program and manage customer orders.\n",
    "\n",
    "Hints for functions:\n",
    "\n",
    "- Consider the input parameters required for each function and their return values.\n",
    "- Utilize function parameters and return values to transfer data between functions.\n",
    "- Test your functions individually to ensure they work correctly.\n",
    "\n",
    "\n"
   ]
  },
  {
   "cell_type": "code",
   "execution_count": 1,
   "id": "e2ec5ddc-1b43-4d93-84cc-7febd96e2316",
   "metadata": {},
   "outputs": [
    {
     "name": "stdin",
     "output_type": "stream",
     "text": [
      "Enter the value for product Key 10\n",
      "Enter the value for product Mirror 20\n",
      "Enter the value for product Books 20\n"
     ]
    },
    {
     "name": "stdout",
     "output_type": "stream",
     "text": [
      "{'Key': '10', 'Mirror': '20', 'Books': '20'}\n"
     ]
    }
   ],
   "source": [
    "##1 Defining functions:\n",
    "def initialize_inventory(products)->dict:\n",
    "    inventory={}\n",
    "    for product in products:\n",
    "        inventory[product]=input(f\"Enter the value for product {product}\")\n",
    "    return inventory\n",
    "\n",
    "print(initialize_inventory([\"Key\",\"Mirror\",\"Books\"]))\n"
   ]
  },
  {
   "cell_type": "code",
   "execution_count": 2,
   "id": "206942db-8427-4597-978c-f7fdd5921464",
   "metadata": {},
   "outputs": [
    {
     "name": "stdin",
     "output_type": "stream",
     "text": [
      "Enter the product name Keychain\n",
      "Do you want to enter another product.Press y to add else press any other key y\n",
      "Enter the product name papers\n",
      "Do you want to enter another product.Press y to add else press any other key y\n",
      "Enter the product name laptop\n",
      "Do you want to enter another product.Press y to add else press any other key BH\n"
     ]
    },
    {
     "data": {
      "text/plain": [
       "{'Keychain', 'laptop', 'papers'}"
      ]
     },
     "execution_count": 2,
     "metadata": {},
     "output_type": "execute_result"
    }
   ],
   "source": [
    "#2 Define a function named `get_customer_orders` that takes no parameters.\n",
    "def get_customer_orders()->set:\n",
    "    ask = 'y'\n",
    "    customer_orders_set=set()\n",
    "    product=input(\"Enter the product name\")\n",
    "    customer_orders_set.add(product)\n",
    "    while True:\n",
    "        ask=input(\"Do you want to enter another product.Press y to add else press any other key\")\n",
    "        if(ask=='y'):\n",
    "           product=input(\"Enter the product name\")\n",
    "           customer_orders_set.add(product)\n",
    "        else:\n",
    "           break\n",
    "        \n",
    "    return customer_orders_set\n",
    "\n",
    "get_customer_orders()"
   ]
  },
  {
   "cell_type": "code",
   "execution_count": 3,
   "id": "405e084e-b1d8-4820-a479-291d8a688210",
   "metadata": {},
   "outputs": [
    {
     "name": "stdin",
     "output_type": "stream",
     "text": [
      "Enter the product name Books\n",
      "Do you want to enter another product.Press y to add else press any other key y\n",
      "Enter the product name Paper\n",
      "Do you want to enter another product.Press y to add else press any other key n\n",
      "Enter the value for product Books 28\n",
      "Enter the value for product Paper 90\n"
     ]
    },
    {
     "name": "stdout",
     "output_type": "stream",
     "text": [
      "{'Books': '28', 'Paper': '90'}\n"
     ]
    }
   ],
   "source": [
    "#3 to use customer orders as products and update the values of products.\n",
    "def update_inventory(customer_order, inventory):\n",
    "      return initialize_inventory(customer_order)\n",
    "    \n",
    "print(update_inventory(get_customer_orders(),initialize_inventory([])))"
   ]
  },
  {
   "cell_type": "code",
   "execution_count": 4,
   "id": "3d2ac60d-070d-4933-a883-f75f286358f2",
   "metadata": {},
   "outputs": [
    {
     "name": "stdin",
     "output_type": "stream",
     "text": [
      "Enter the product name Mirror\n",
      "Do you want to enter another product.Press y to add else press any other key n\n"
     ]
    },
    {
     "name": "stdout",
     "output_type": "stream",
     "text": [
      "Value of unique_products is 0  []\n",
      "Value of total products is 4\n"
     ]
    },
    {
     "data": {
      "text/plain": [
       "{'unique_products': 0, 'total_products': 4}"
      ]
     },
     "execution_count": 4,
     "metadata": {},
     "output_type": "execute_result"
    }
   ],
   "source": [
    "#4  Define a function named `calculate_order_statistics` that takes `customer_orders` and `products` as parameters. \n",
    "def calculate_order_statistics (customer_orders, products)->dict:\n",
    "    unique_products=[]\n",
    "    stats={}\n",
    "    for product in customer_orders:\n",
    "        if(product not in products):\n",
    "            unique_products.append(product)\n",
    "    stats[\"unique_products\"]=len(unique_products)\n",
    "    stats[\"total_products\"]=len(products) +len(customer_orders)\n",
    "    print(f\"Value of unique_products is {len(unique_products)}  {unique_products}\")\n",
    "    print(f\"Value of total products is {len(products)+len(customer_orders)}\")\n",
    "    return stats\n",
    "    \n",
    "calculate_order_statistics(get_customer_orders(),[\"Key\",\"Mirror\",\"Books\"])"
   ]
  },
  {
   "cell_type": "code",
   "execution_count": 5,
   "id": "1e38d89e-4e57-4261-a283-d940e852921a",
   "metadata": {},
   "outputs": [
    {
     "name": "stdin",
     "output_type": "stream",
     "text": [
      "Enter the product name Keyboards\n",
      "Do you want to enter another product.Press y to add else press any other key n\n"
     ]
    },
    {
     "name": "stdout",
     "output_type": "stream",
     "text": [
      "Value of unique_products is 1  ['Keyboards']\n",
      "Value of total products is 4\n",
      "Value of unique_products : 1\n",
      "Value of total_products : 4\n"
     ]
    }
   ],
   "source": [
    "#5  \n",
    "def print_order_statistics(order_stats):\n",
    "             for key,value in order_stats.items():\n",
    "                 print(f\"Value of {key} : {value}\")\n",
    "                 \n",
    "print_order_statistics(calculate_order_statistics(get_customer_orders(),[\"Key\",\"Mirror\",\"Books\"]))             "
   ]
  },
  {
   "cell_type": "code",
   "execution_count": 6,
   "id": "e5e884ba-6fd4-44cf-8f65-f17afaf63f2e",
   "metadata": {},
   "outputs": [
    {
     "name": "stdin",
     "output_type": "stream",
     "text": [
      "Enter the value for product Key 10\n",
      "Enter the value for product Mirror 80\n",
      "Enter the value for product Books 67\n"
     ]
    },
    {
     "name": "stdout",
     "output_type": "stream",
     "text": [
      "Value of Key : 10\n",
      "Value of Mirror : 80\n",
      "Value of Books : 67\n"
     ]
    }
   ],
   "source": [
    "#6\n",
    "def print_updated_inventory(inventory):\n",
    "     for key,value in inventory.items():\n",
    "        print(f\"Value of {key} : {value}\")\n",
    "\n",
    "print_updated_inventory(initialize_inventory([\"Key\",\"Mirror\",\"Books\"]))"
   ]
  },
  {
   "cell_type": "code",
   "execution_count": 7,
   "id": "4cd8e431-9e45-4eb5-9065-867b7b41015b",
   "metadata": {},
   "outputs": [
    {
     "name": "stdin",
     "output_type": "stream",
     "text": [
      "Enter the value for product Key 89\n",
      "Enter the value for product Mirror 80\n",
      "Enter the value for product Books 70\n",
      "Enter the product name Paper\n",
      "Do you want to enter another product.Press y to add else press any other key n\n",
      "Enter the value for product Paper 23\n"
     ]
    },
    {
     "name": "stdout",
     "output_type": "stream",
     "text": [
      "Value of unique_products is 1  ['Paper']\n",
      "Value of total products is 4\n",
      "Value of unique_products : 1\n",
      "Value of total_products : 4\n",
      "Value of Key : 89\n",
      "Value of Mirror : 80\n",
      "Value of Books : 70\n"
     ]
    }
   ],
   "source": [
    "#7 sequence\n",
    "products=[\"Key\",\"Mirror\",\"Books\"]\n",
    "inventory=initialize_inventory(products)\n",
    "customer_order=get_customer_orders()\n",
    "update_inventory(customer_order, inventory)\n",
    "order_stats=calculate_order_statistics (customer_order, products)\n",
    "print_order_statistics(order_stats)\n",
    "print_updated_inventory(inventory)"
   ]
  }
 ],
 "metadata": {
  "kernelspec": {
   "display_name": "Python 3 (ipykernel)",
   "language": "python",
   "name": "python3"
  },
  "language_info": {
   "codemirror_mode": {
    "name": "ipython",
    "version": 3
   },
   "file_extension": ".py",
   "mimetype": "text/x-python",
   "name": "python",
   "nbconvert_exporter": "python",
   "pygments_lexer": "ipython3",
   "version": "3.12.2"
  }
 },
 "nbformat": 4,
 "nbformat_minor": 5
}
